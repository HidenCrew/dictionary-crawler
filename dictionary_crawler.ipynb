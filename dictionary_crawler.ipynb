{
  "nbformat": 4,
  "nbformat_minor": 0,
  "metadata": {
    "colab": {
      "name": "dictionary_crawler.ipynb",
      "provenance": [],
      "collapsed_sections": [],
      "include_colab_link": true
    },
    "kernelspec": {
      "name": "python3",
      "display_name": "Python 3"
    }
  },
  "cells": [
    {
      "cell_type": "markdown",
      "metadata": {
        "id": "view-in-github",
        "colab_type": "text"
      },
      "source": [
        "<a href=\"https://colab.research.google.com/github/drew-chien/dictionary-crawler/blob/main/dictionary_crawler.ipynb\" target=\"_parent\"><img src=\"https://colab.research.google.com/assets/colab-badge.svg\" alt=\"Open In Colab\"/></a>"
      ]
    },
    {
      "cell_type": "markdown",
      "metadata": {
        "id": "pUHz4ACufTCP"
      },
      "source": [
        "# Put in words"
      ]
    },
    {
      "cell_type": "code",
      "metadata": {
        "id": "D4LPT29LeYBf"
      },
      "source": [
        "# put in the words\r\n",
        "words = ['test', 'bombard', 'compensation']"
      ],
      "execution_count": 217,
      "outputs": []
    },
    {
      "cell_type": "markdown",
      "metadata": {
        "id": "YuG1JtCLBU-I"
      },
      "source": [
        "# Data processing"
      ]
    },
    {
      "cell_type": "code",
      "metadata": {
        "id": "nAl0C2yPFita",
        "colab": {
          "base_uri": "https://localhost:8080/"
        },
        "outputId": "70a93e67-0945-4753-ef0d-38e716e2aa9c"
      },
      "source": [
        "import requests\n",
        "from bs4 import BeautifulSoup\n",
        "import re\n",
        "import docx\n",
        "from google.colab import drive\n",
        "\n",
        "class Definition():\n",
        "  def __init__(self, meaning):\n",
        "    self.meaning = meaning.text\n",
        "    print('meaning: ' + self.meaning)\n",
        "    # chinese\n",
        "    self.chinese = meaning.next_sibling.find('span', {'lang': 'zh-Hant'}).text\n",
        "    print('chinese: ' + self.chinese)\n",
        "    # examples\n",
        "    self.examples = []\n",
        "    for example in meaning.next_sibling.find_all('div', {'class': 'examp'}):\n",
        "      self.examples.append(re.sub('\\n$', '', example.text))\n",
        "    print(self.examples)\n",
        "\n",
        "\n",
        "class WordData():\n",
        "  def __init__(self, word):\n",
        "    # Make the request to a url\n",
        "    r = requests.get('https://dictionary.cambridge.org/dictionary/english-chinese-traditional/' + word,\n",
        "              headers = {'user-agent':'Mozilla/5.0 (Windows NT 6.0; WOW64; rv:24.0) Gecko/20100101 Firefox/24.0'})\n",
        "    soup = BeautifulSoup(r.content)\n",
        "\n",
        "    # get the title\n",
        "    title = soup.find('title').text\n",
        "    print('raw title: ' + title)\n",
        "    self.title = re.sub(' \\|.*', '', title)\n",
        "    print('clean title: ' + self.title)\n",
        "\n",
        "    # get the pronouciation\n",
        "    self.pronunciations = []\n",
        "    for pron in soup.find_all('span', {'class': 'pron'}):\n",
        "      print('pron: ' + pron.text)\n",
        "      self.pronunciations.append(pron.text)\n",
        "    print(self.pronunciations)\n",
        "\n",
        "    # get the meaning\n",
        "    self.definitions = []\n",
        "    for meaning in soup.find_all('div', {'class': 'ddef_h'}):\n",
        "      self.definitions.append(Definition(meaning))\n",
        "\n",
        "  def ToDoc(self, doc):\n",
        "    p = doc.add_paragraph(self.title, style='List Bullet')\n",
        "    p.add_run('\\n')\n",
        "    first = True\n",
        "    for pron in self.pronunciations:\n",
        "      if not first:\n",
        "        p.add_run(', ')\n",
        "      first = False\n",
        "      p.add_run(pron)\n",
        "    \n",
        "    for definition in self.definitions:\n",
        "      p = doc.add_paragraph(definition.meaning, style='List Bullet 2')\n",
        "      p.add_run('\\n')\n",
        "      p.add_run(definition.chinese)\n",
        "      for example in definition.examples:\n",
        "        doc.add_paragraph(example, style='List Bullet 3')\n",
        "\n",
        "# processing\n",
        "doc = docx.Document()\n",
        "for word in words:\n",
        "  wordData = WordData(word)\n",
        "  wordData.ToDoc(doc)\n",
        "\n",
        "# mount the drive and then output the file to the drive\n",
        "drive.mount('/content/drive')\n",
        "doc.save('/content/drive/MyDrive/helloWorld.docx')"
      ],
      "execution_count": 218,
      "outputs": [
        {
          "output_type": "stream",
          "text": [
            "raw title: test | translate to Traditional Chinese: Cambridge Dictionary\n",
            "clean title: test\n",
            "pron: /test/\n",
            "pron: /test/\n",
            "pron: /test/\n",
            "pron: /test/\n",
            "['/test/', '/test/', '/test/', '/test/']\n",
            "meaning: A1 a way of discovering, by questions or practical activities, what someone knows, or what someone or something can do or is like \n",
            "chinese: 測驗，考查\n",
            "[' The class are doing/having a spelling test today.\\n今天班裡有一個拼寫測驗。', ' She had to take/do an aptitude test before she got the job.\\n她先接受了能力測試後才得到這份工作。']\n",
            "meaning: B1 a medical examination of part of your body in order to find out how healthy it is or what is happening with it \n",
            "chinese: （體格）檢查；化驗\n",
            "[' a blood/urine test\\n驗血／尿檢', ' an eye test\\n視力檢查', ' a pregnancy test\\n妊娠檢查', \" The doctors have done some tests to try and find out what's wrong with her.\\n醫生做了一些檢查，想查出她的問題出在哪裡。\"]\n",
            "meaning:  an act of using something to find out if it is working correctly or how effective it is \n",
            "chinese: 試驗\n",
            "[' The new missiles are currently undergoing tests.\\n新導彈目前正在進行試驗。']\n",
            "meaning: B2 a situation that shows how good something is \n",
            "chinese: 檢驗；考驗\n",
            "[' Driving on that icy road was a real test of my skill.\\n在那條結了冰的路上駕車是對我駕駛技術的一次真正考驗。']\n",
            "meaning:  a \n",
            "test match  \n",
            "chinese: （板球，橄欖球等的）國際錦標賽（同 test match）\n",
            "[' Australia won the test by 197 runs.\\n澳大利亞以197分贏得了這次錦標賽。']\n",
            "meaning: B2 to do something in order to discover if something is safe, works correctly, etc., or if something is present \n",
            "chinese: 試驗；檢驗；試用；檢測\n",
            "[' The manufacturers are currently testing the new engine.\\n生產廠家目前正試驗這種新的引擎。', ' They tested her blood for signs of the infection.\\n他們驗了她的血，看看是否有感染的跡象。']\n",
            "meaning: B1 to give someone a set of questions, in order to measure their knowledge or ability \n",
            "chinese: 測驗，測試；考查；考試\n",
            "[\" Will you test me on the chemistry I've been learning?\\n你要考一考我一直在學的化學嗎？\"]\n",
            "meaning: B2 If a situation tests someone, it proves how good, strong, etc. they are. \n",
            "chinese: 考驗\n",
            "[' That lecture really tested my powers of endurance, it was so boring.\\n那個講座簡直是在考驗我的忍耐力，實在太枯燥了。']\n",
            "meaning:  to do a medical examination of part of someone's body or of a particular physical ability \n",
            "chinese: 檢查（身體）\n",
            "[]\n",
            "raw title: bombard | translate to Traditional Chinese: Cambridge Dictionary\n",
            "clean title: bombard\n",
            "pron: /bɒmˈbɑːd/\n",
            "pron: /bɑːmˈbɑːrd/\n",
            "['/bɒmˈbɑːd/', '/bɑːmˈbɑːrd/']\n",
            "meaning:  to attack a place with continuous shooting or bombs \n",
            "chinese: 連續炮撃，連續轟炸\n",
            "[' The troops bombarded the city, killing and injuring hundreds.\\n部隊連續炮撃了該市，導致數百人傷亡。']\n",
            "raw title: compensation | translate to Traditional Chinese: Cambridge Dictionary\n",
            "clean title: compensation\n",
            "pron: /ˌkɒm.penˈseɪ.ʃən/\n",
            "pron: /ˌkɑːm.penˈseɪ.ʃən/\n",
            "['/ˌkɒm.penˈseɪ.ʃən/', '/ˌkɑːm.penˈseɪ.ʃən/']\n",
            "meaning:  [ U ] money that is paid to someone in exchange for something that has been lost or damaged or for some problem \n",
            "chinese: 賠償金；補償金\n",
            "[' She received £40,000 in compensation for a lost eye.\\n她得到四萬英鎊，作為對失去一隻眼睛的賠償。', ' You should claim/seek compensation.\\n你應該要求賠償。', ' a compensation claim\\n索賠要求']\n",
            "meaning:  [ C or U ] something that makes you feel better when you have suffered something bad \n",
            "chinese: 補償（物）；賠償（物）\n",
            "[' I have to spend three months of the year away from home - but there are compensations like the chance to meet new people.\\n我一年必須有三個月的時間出門在外——但也有好處，比如有機會認識新朋友。', ' Free food was no compensation for a very boring evening.\\n免費食物並不能彌補晚會的乏味無聊。']\n",
            "meaning:  [ U ] the combination of money and other benefits (= rewards) that an employee receives for doing their job \n",
            "chinese: 報酬（僱員獲得的金錢和其他福利的總和）\n",
            "[' Annual compensation for our executives includes salary and bonus under our incentive plan.\\n我們的高級管理人員獲得的年度報酬包括工資以及按獎勵計劃發放的獎金。']\n",
            "Drive already mounted at /content/drive; to attempt to forcibly remount, call drive.mount(\"/content/drive\", force_remount=True).\n"
          ],
          "name": "stdout"
        }
      ]
    },
    {
      "cell_type": "markdown",
      "metadata": {
        "id": "h55iAGInBIi2"
      },
      "source": [
        "# Download and install all required package"
      ]
    },
    {
      "cell_type": "code",
      "metadata": {
        "colab": {
          "base_uri": "https://localhost:8080/"
        },
        "id": "WO7pW0AE9s1h",
        "outputId": "9b357eae-7f5e-46ac-e964-29e690a8a9d4"
      },
      "source": [
        "# install python-docx to write to doc\r\n",
        "!pip install python-docx\r\n",
        "!pip show python-docx"
      ],
      "execution_count": 216,
      "outputs": [
        {
          "output_type": "stream",
          "text": [
            "Requirement already satisfied: python-docx in /usr/local/lib/python3.6/dist-packages (0.8.10)\n",
            "Requirement already satisfied: lxml>=2.3.2 in /usr/local/lib/python3.6/dist-packages (from python-docx) (4.2.6)\n",
            "Name: python-docx\n",
            "Version: 0.8.10\n",
            "Summary: Create and update Microsoft Word .docx files.\n",
            "Home-page: https://github.com/python-openxml/python-docx\n",
            "Author: Steve Canny\n",
            "Author-email: python-docx@googlegroups.com\n",
            "License: The MIT License (MIT)\n",
            "Location: /usr/local/lib/python3.6/dist-packages\n",
            "Requires: lxml\n",
            "Required-by: \n"
          ],
          "name": "stdout"
        }
      ]
    }
  ]
}