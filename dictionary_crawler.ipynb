{
  "nbformat": 4,
  "nbformat_minor": 0,
  "metadata": {
    "colab": {
      "name": "dictionary_crawler.ipynb",
      "provenance": [],
      "collapsed_sections": [],
      "include_colab_link": true
    },
    "kernelspec": {
      "name": "python3",
      "display_name": "Python 3"
    }
  },
  "cells": [
    {
      "cell_type": "markdown",
      "metadata": {
        "id": "view-in-github",
        "colab_type": "text"
      },
      "source": [
        "<a href=\"https://colab.research.google.com/github/drew-chien/dictionary-crawler/blob/main/dictionary_crawler.ipynb\" target=\"_parent\"><img src=\"https://colab.research.google.com/assets/colab-badge.svg\" alt=\"Open In Colab\"/></a>"
      ]
    },
    {
      "cell_type": "markdown",
      "metadata": {
        "id": "h55iAGInBIi2"
      },
      "source": [
        "# Install required packages for one time usage"
      ]
    },
    {
      "cell_type": "code",
      "metadata": {
        "id": "WO7pW0AE9s1h"
      },
      "source": [
        "# install python-docx to write to doc\r\n",
        "!pip install python-docx\r\n",
        "!pip show python-docx"
      ],
      "execution_count": null,
      "outputs": []
    },
    {
      "cell_type": "markdown",
      "metadata": {
        "id": "jh3s-ZhRcs7L"
      },
      "source": [
        "# Install required packages permanently"
      ]
    },
    {
      "cell_type": "code",
      "metadata": {
        "id": "iz8GaZ4sc9Mf"
      },
      "source": [
        "import os, sys\r\n",
        "from google.colab import drive\r\n",
        "# Create a symbolic link with no whitespace to the Colab notebooks, and put that in PATH.\r\n",
        "drive.mount('/content/drive')\r\n",
        "softlink = '/content/notebooks_link'\r\n",
        "os.symlink('/content/drive/My Drive/Colab Notebooks', softlink)\r\n",
        "sys.path.insert(0,softlink)\r\n",
        "\r\n",
        "!pip install --target=$softlink python-docx\r\n",
        "!pip show python-docx"
      ],
      "execution_count": null,
      "outputs": []
    },
    {
      "cell_type": "markdown",
      "metadata": {
        "id": "pUHz4ACufTCP"
      },
      "source": [
        "# Put in words"
      ]
    },
    {
      "cell_type": "code",
      "metadata": {
        "id": "D4LPT29LeYBf",
        "colab": {
          "base_uri": "https://localhost:8080/"
        },
        "outputId": "220b13c4-8891-41f2-ec2d-361a62bb0a2b"
      },
      "source": [
        "# put in words\r\n",
        "words = ['fad', 'deficient', 'oesophagus', 'equator']\r\n",
        "print(words)"
      ],
      "execution_count": 9,
      "outputs": [
        {
          "output_type": "stream",
          "text": [
            "['fad', 'deficient', 'oesophagus', 'equator']\n"
          ],
          "name": "stdout"
        }
      ]
    },
    {
      "cell_type": "markdown",
      "metadata": {
        "id": "YuG1JtCLBU-I"
      },
      "source": [
        "# Data processing"
      ]
    },
    {
      "cell_type": "code",
      "metadata": {
        "id": "nAl0C2yPFita",
        "colab": {
          "base_uri": "https://localhost:8080/"
        },
        "outputId": "7d2a7092-a1f9-4e72-9962-b25c2d4ee679"
      },
      "source": [
        "import requests\n",
        "from bs4 import BeautifulSoup\n",
        "import re\n",
        "import docx\n",
        "from google.colab import drive\n",
        "\n",
        "class Definition():\n",
        "  def __init__(self, meaning):\n",
        "    self.meaning = meaning.text\n",
        "    print('meaning: ' + self.meaning)\n",
        "    # chinese\n",
        "    self.chinese = meaning.next_sibling.find('span', {'lang': 'zh-Hant'}).text\n",
        "    print('chinese: ' + self.chinese)\n",
        "    # examples\n",
        "    self.examples = []\n",
        "    for example in meaning.next_sibling.find_all('div', {'class': 'examp'}):\n",
        "      self.examples.append(re.sub('\\n$', '', example.text))\n",
        "    print(self.examples)\n",
        "\n",
        "\n",
        "class WordData():\n",
        "  def __init__(self, word):\n",
        "    # Make the request to a url\n",
        "    r = requests.get('https://dictionary.cambridge.org/dictionary/english-chinese-traditional/' + word,\n",
        "              headers = {'user-agent':'Mozilla/5.0 (Windows NT 6.0; WOW64; rv:24.0) Gecko/20100101 Firefox/24.0'})\n",
        "    soup = BeautifulSoup(r.content)\n",
        "\n",
        "    # get the title\n",
        "    title = soup.find('title').text\n",
        "    print('raw title: ' + title)\n",
        "    self.title = re.sub(' \\|.*', '', title)\n",
        "    print('clean title: ' + self.title)\n",
        "\n",
        "    # get the pronouciation\n",
        "    self.pronunciations = []\n",
        "    for pron in soup.find_all('span', {'class': 'pron'}):\n",
        "      print('pron: ' + pron.text)\n",
        "      self.pronunciations.append(pron.text)\n",
        "    print(self.pronunciations)\n",
        "\n",
        "    # get the meaning\n",
        "    self.definitions = []\n",
        "    for meaning in soup.find_all('div', {'class': 'ddef_h'}):\n",
        "      self.definitions.append(Definition(meaning))\n",
        "\n",
        "  def ToDoc(self, doc):\n",
        "    p = doc.add_paragraph(self.title, style='List Bullet')\n",
        "    p.add_run('\\n')\n",
        "    first = True\n",
        "    for pron in self.pronunciations:\n",
        "      if not first:\n",
        "        p.add_run(', ')\n",
        "      first = False\n",
        "      p.add_run(pron)\n",
        "    \n",
        "    for definition in self.definitions:\n",
        "      p = doc.add_paragraph(definition.meaning, style='List Bullet 2')\n",
        "      p.add_run('\\n')\n",
        "      p.add_run(definition.chinese)\n",
        "      for example in definition.examples:\n",
        "        doc.add_paragraph(example, style='List Bullet 3')\n",
        "\n",
        "# processing\n",
        "doc = docx.Document()\n",
        "for word in words:\n",
        "  wordData = WordData(word)\n",
        "  wordData.ToDoc(doc)\n",
        "\n",
        "# mount the drive and then output the file to the drive\n",
        "drive.mount('/content/drive')\n",
        "doc.save('/content/drive/MyDrive/helloWorld.docx')"
      ],
      "execution_count": 10,
      "outputs": [
        {
          "output_type": "stream",
          "text": [
            "raw title: fad | translate to Traditional Chinese: Cambridge Dictionary\n",
            "clean title: fad\n",
            "pron: /fæd/\n",
            "pron: /fæd/\n",
            "['/fæd/', '/fæd/']\n",
            "meaning:  a style, activity, or interest that is very popular for a short period of time \n",
            "chinese: 一時的風尚；短暫的狂熱\n",
            "[' the latest health fad\\n最新健康時尚', 'UK There was a fad for wearing ripped jeans a few years ago.\\n幾年前有一陣子流行穿有洞的牛仔褲。']\n",
            "raw title: deficient | translate to Traditional Chinese: Cambridge Dictionary\n",
            "clean title: deficient\n",
            "pron: /dɪˈfɪʃ.ənt/\n",
            "pron: /dɪˈfɪʃ.ənt/\n",
            "['/dɪˈfɪʃ.ənt/', '/dɪˈfɪʃ.ənt/']\n",
            "meaning:  not having enough of \n",
            "chinese: 缺乏的，缺少的\n",
            "[' A diet deficient in vitamin D may cause the disease rickets.\\n飲食中缺乏維他命D可導致佝僂病。']\n",
            "meaning:  not good enough \n",
            "chinese: 不夠的，不足的\n",
            "[' His theory is deficient in several respects.\\n他的理論有幾方面的不足。']\n",
            "raw title: oesophagus | translate to Traditional Chinese: Cambridge Dictionary\n",
            "clean title: oesophagus\n",
            "pron: /ɪˈsɒf.ə.ɡəs/\n",
            "pron: /ɪˈsɑː.fə.ɡəs/\n",
            "['/ɪˈsɒf.ə.ɡəs/', '/ɪˈsɑː.fə.ɡəs/']\n",
            "meaning:  the tube in the body that takes food from the mouth to the stomach \n",
            "chinese: 食道，食管\n",
            "[]\n",
            "raw title: equator | translate to Traditional Chinese: Cambridge Dictionary\n",
            "clean title: equator\n",
            "pron: /ɪˈkweɪ.tər/\n",
            "pron: /ɪˈkweɪ.t̬ɚ/\n",
            "['/ɪˈkweɪ.tər/', '/ɪˈkweɪ.t̬ɚ/']\n",
            "meaning:  an imaginary line drawn around the middle of the earth an equal distance from the North Pole and the South Pole \n",
            "chinese: 赤道\n",
            "[' Indonesia is/lies on the equator.\\n印尼位於赤道之上。']\n",
            "Drive already mounted at /content/drive; to attempt to forcibly remount, call drive.mount(\"/content/drive\", force_remount=True).\n"
          ],
          "name": "stdout"
        }
      ]
    }
  ]
}